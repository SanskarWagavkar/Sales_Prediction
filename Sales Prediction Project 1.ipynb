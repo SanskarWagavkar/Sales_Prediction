{
 "cells": [
  {
   "cell_type": "code",
   "execution_count": 3,
   "id": "a4d375fc",
   "metadata": {
    "ExecuteTime": {
     "end_time": "2021-05-26T14:14:00.368029Z",
     "start_time": "2021-05-26T14:14:00.362028Z"
    }
   },
   "outputs": [],
   "source": [
    "import pandas as pd"
   ]
  },
  {
   "cell_type": "code",
   "execution_count": 4,
   "id": "fb5b86f4",
   "metadata": {
    "ExecuteTime": {
     "end_time": "2021-05-26T14:14:02.655029Z",
     "start_time": "2021-05-26T14:14:02.369029Z"
    }
   },
   "outputs": [
    {
     "data": {
      "text/html": [
       "<div>\n",
       "<style scoped>\n",
       "    .dataframe tbody tr th:only-of-type {\n",
       "        vertical-align: middle;\n",
       "    }\n",
       "\n",
       "    .dataframe tbody tr th {\n",
       "        vertical-align: top;\n",
       "    }\n",
       "\n",
       "    .dataframe thead th {\n",
       "        text-align: right;\n",
       "    }\n",
       "</style>\n",
       "<table border=\"1\" class=\"dataframe\">\n",
       "  <thead>\n",
       "    <tr style=\"text-align: right;\">\n",
       "      <th></th>\n",
       "      <th>Item_Identifier</th>\n",
       "      <th>Item_Weight</th>\n",
       "      <th>Item_Fat_Content</th>\n",
       "      <th>Item_Visibility</th>\n",
       "      <th>Item_Type</th>\n",
       "      <th>Item_MRP</th>\n",
       "      <th>Outlet_Identifier</th>\n",
       "      <th>Outlet_Establishment_Year</th>\n",
       "      <th>Outlet_Size</th>\n",
       "      <th>Outlet_Location_Type</th>\n",
       "      <th>Outlet_Type</th>\n",
       "      <th>Item_Outlet_Sales</th>\n",
       "    </tr>\n",
       "  </thead>\n",
       "  <tbody>\n",
       "    <tr>\n",
       "      <th>0</th>\n",
       "      <td>FDA15</td>\n",
       "      <td>9.30</td>\n",
       "      <td>Low Fat</td>\n",
       "      <td>0.016047</td>\n",
       "      <td>Dairy</td>\n",
       "      <td>249.8092</td>\n",
       "      <td>OUT049</td>\n",
       "      <td>1999</td>\n",
       "      <td>Medium</td>\n",
       "      <td>Tier 1</td>\n",
       "      <td>Supermarket Type1</td>\n",
       "      <td>3735.1380</td>\n",
       "    </tr>\n",
       "    <tr>\n",
       "      <th>1</th>\n",
       "      <td>DRC01</td>\n",
       "      <td>5.92</td>\n",
       "      <td>Regular</td>\n",
       "      <td>0.019278</td>\n",
       "      <td>Soft Drinks</td>\n",
       "      <td>48.2692</td>\n",
       "      <td>OUT018</td>\n",
       "      <td>2009</td>\n",
       "      <td>Medium</td>\n",
       "      <td>Tier 3</td>\n",
       "      <td>Supermarket Type2</td>\n",
       "      <td>443.4228</td>\n",
       "    </tr>\n",
       "    <tr>\n",
       "      <th>2</th>\n",
       "      <td>FDN15</td>\n",
       "      <td>17.50</td>\n",
       "      <td>Low Fat</td>\n",
       "      <td>0.016760</td>\n",
       "      <td>Meat</td>\n",
       "      <td>141.6180</td>\n",
       "      <td>OUT049</td>\n",
       "      <td>1999</td>\n",
       "      <td>Medium</td>\n",
       "      <td>Tier 1</td>\n",
       "      <td>Supermarket Type1</td>\n",
       "      <td>2097.2700</td>\n",
       "    </tr>\n",
       "    <tr>\n",
       "      <th>3</th>\n",
       "      <td>FDX07</td>\n",
       "      <td>19.20</td>\n",
       "      <td>Regular</td>\n",
       "      <td>0.000000</td>\n",
       "      <td>Fruits and Vegetables</td>\n",
       "      <td>182.0950</td>\n",
       "      <td>OUT010</td>\n",
       "      <td>1998</td>\n",
       "      <td>NaN</td>\n",
       "      <td>Tier 3</td>\n",
       "      <td>Grocery Store</td>\n",
       "      <td>732.3800</td>\n",
       "    </tr>\n",
       "    <tr>\n",
       "      <th>4</th>\n",
       "      <td>NCD19</td>\n",
       "      <td>8.93</td>\n",
       "      <td>Low Fat</td>\n",
       "      <td>0.000000</td>\n",
       "      <td>Household</td>\n",
       "      <td>53.8614</td>\n",
       "      <td>OUT013</td>\n",
       "      <td>1987</td>\n",
       "      <td>High</td>\n",
       "      <td>Tier 3</td>\n",
       "      <td>Supermarket Type1</td>\n",
       "      <td>994.7052</td>\n",
       "    </tr>\n",
       "  </tbody>\n",
       "</table>\n",
       "</div>"
      ],
      "text/plain": [
       "  Item_Identifier  Item_Weight Item_Fat_Content  Item_Visibility  \\\n",
       "0           FDA15         9.30          Low Fat         0.016047   \n",
       "1           DRC01         5.92          Regular         0.019278   \n",
       "2           FDN15        17.50          Low Fat         0.016760   \n",
       "3           FDX07        19.20          Regular         0.000000   \n",
       "4           NCD19         8.93          Low Fat         0.000000   \n",
       "\n",
       "               Item_Type  Item_MRP Outlet_Identifier  \\\n",
       "0                  Dairy  249.8092            OUT049   \n",
       "1            Soft Drinks   48.2692            OUT018   \n",
       "2                   Meat  141.6180            OUT049   \n",
       "3  Fruits and Vegetables  182.0950            OUT010   \n",
       "4              Household   53.8614            OUT013   \n",
       "\n",
       "   Outlet_Establishment_Year Outlet_Size Outlet_Location_Type  \\\n",
       "0                       1999      Medium               Tier 1   \n",
       "1                       2009      Medium               Tier 3   \n",
       "2                       1999      Medium               Tier 1   \n",
       "3                       1998         NaN               Tier 3   \n",
       "4                       1987        High               Tier 3   \n",
       "\n",
       "         Outlet_Type  Item_Outlet_Sales  \n",
       "0  Supermarket Type1          3735.1380  \n",
       "1  Supermarket Type2           443.4228  \n",
       "2  Supermarket Type1          2097.2700  \n",
       "3      Grocery Store           732.3800  \n",
       "4  Supermarket Type1           994.7052  "
      ]
     },
     "execution_count": 4,
     "metadata": {},
     "output_type": "execute_result"
    }
   ],
   "source": [
    "Data = pd.read_csv(\"C:/Users/sansk/Desktop/Train.csv\")\n",
    "Data.head()"
   ]
  },
  {
   "cell_type": "code",
   "execution_count": 14,
   "id": "bb6101cd",
   "metadata": {
    "ExecuteTime": {
     "end_time": "2021-05-26T14:24:28.272617Z",
     "start_time": "2021-05-26T14:24:28.263619Z"
    }
   },
   "outputs": [],
   "source": [
    "Data_2 = Data.drop([\"Item_Identifier\",\"Item_Type\",\"Outlet_Identifier\",\"Outlet_Type\"], axis=1)"
   ]
  },
  {
   "cell_type": "code",
   "execution_count": 15,
   "id": "e4d94dfc",
   "metadata": {
    "ExecuteTime": {
     "end_time": "2021-05-26T14:24:38.539889Z",
     "start_time": "2021-05-26T14:24:38.508891Z"
    }
   },
   "outputs": [
    {
     "data": {
      "text/html": [
       "<div>\n",
       "<style scoped>\n",
       "    .dataframe tbody tr th:only-of-type {\n",
       "        vertical-align: middle;\n",
       "    }\n",
       "\n",
       "    .dataframe tbody tr th {\n",
       "        vertical-align: top;\n",
       "    }\n",
       "\n",
       "    .dataframe thead th {\n",
       "        text-align: right;\n",
       "    }\n",
       "</style>\n",
       "<table border=\"1\" class=\"dataframe\">\n",
       "  <thead>\n",
       "    <tr style=\"text-align: right;\">\n",
       "      <th></th>\n",
       "      <th>Item_Weight</th>\n",
       "      <th>Item_Fat_Content</th>\n",
       "      <th>Item_Visibility</th>\n",
       "      <th>Item_MRP</th>\n",
       "      <th>Outlet_Establishment_Year</th>\n",
       "      <th>Outlet_Size</th>\n",
       "      <th>Outlet_Location_Type</th>\n",
       "      <th>Item_Outlet_Sales</th>\n",
       "    </tr>\n",
       "  </thead>\n",
       "  <tbody>\n",
       "    <tr>\n",
       "      <th>0</th>\n",
       "      <td>9.30</td>\n",
       "      <td>Low Fat</td>\n",
       "      <td>0.016047</td>\n",
       "      <td>249.8092</td>\n",
       "      <td>1999</td>\n",
       "      <td>Medium</td>\n",
       "      <td>Tier 1</td>\n",
       "      <td>3735.1380</td>\n",
       "    </tr>\n",
       "    <tr>\n",
       "      <th>1</th>\n",
       "      <td>5.92</td>\n",
       "      <td>Regular</td>\n",
       "      <td>0.019278</td>\n",
       "      <td>48.2692</td>\n",
       "      <td>2009</td>\n",
       "      <td>Medium</td>\n",
       "      <td>Tier 3</td>\n",
       "      <td>443.4228</td>\n",
       "    </tr>\n",
       "    <tr>\n",
       "      <th>2</th>\n",
       "      <td>17.50</td>\n",
       "      <td>Low Fat</td>\n",
       "      <td>0.016760</td>\n",
       "      <td>141.6180</td>\n",
       "      <td>1999</td>\n",
       "      <td>Medium</td>\n",
       "      <td>Tier 1</td>\n",
       "      <td>2097.2700</td>\n",
       "    </tr>\n",
       "    <tr>\n",
       "      <th>3</th>\n",
       "      <td>19.20</td>\n",
       "      <td>Regular</td>\n",
       "      <td>0.000000</td>\n",
       "      <td>182.0950</td>\n",
       "      <td>1998</td>\n",
       "      <td>NaN</td>\n",
       "      <td>Tier 3</td>\n",
       "      <td>732.3800</td>\n",
       "    </tr>\n",
       "    <tr>\n",
       "      <th>4</th>\n",
       "      <td>8.93</td>\n",
       "      <td>Low Fat</td>\n",
       "      <td>0.000000</td>\n",
       "      <td>53.8614</td>\n",
       "      <td>1987</td>\n",
       "      <td>High</td>\n",
       "      <td>Tier 3</td>\n",
       "      <td>994.7052</td>\n",
       "    </tr>\n",
       "  </tbody>\n",
       "</table>\n",
       "</div>"
      ],
      "text/plain": [
       "   Item_Weight Item_Fat_Content  Item_Visibility  Item_MRP  \\\n",
       "0         9.30          Low Fat         0.016047  249.8092   \n",
       "1         5.92          Regular         0.019278   48.2692   \n",
       "2        17.50          Low Fat         0.016760  141.6180   \n",
       "3        19.20          Regular         0.000000  182.0950   \n",
       "4         8.93          Low Fat         0.000000   53.8614   \n",
       "\n",
       "   Outlet_Establishment_Year Outlet_Size Outlet_Location_Type  \\\n",
       "0                       1999      Medium               Tier 1   \n",
       "1                       2009      Medium               Tier 3   \n",
       "2                       1999      Medium               Tier 1   \n",
       "3                       1998         NaN               Tier 3   \n",
       "4                       1987        High               Tier 3   \n",
       "\n",
       "   Item_Outlet_Sales  \n",
       "0          3735.1380  \n",
       "1           443.4228  \n",
       "2          2097.2700  \n",
       "3           732.3800  \n",
       "4           994.7052  "
      ]
     },
     "execution_count": 15,
     "metadata": {},
     "output_type": "execute_result"
    }
   ],
   "source": [
    "Data_2.head()"
   ]
  },
  {
   "cell_type": "code",
   "execution_count": 16,
   "id": "601257e4",
   "metadata": {
    "ExecuteTime": {
     "end_time": "2021-05-26T14:24:42.937894Z",
     "start_time": "2021-05-26T14:24:42.838893Z"
    }
   },
   "outputs": [
    {
     "data": {
      "text/plain": [
       "Item_Weight                   415\n",
       "Item_Fat_Content                5\n",
       "Item_Visibility              7880\n",
       "Item_MRP                     5938\n",
       "Outlet_Establishment_Year       9\n",
       "Outlet_Size                     3\n",
       "Outlet_Location_Type            3\n",
       "Item_Outlet_Sales            3493\n",
       "dtype: int64"
      ]
     },
     "execution_count": 16,
     "metadata": {},
     "output_type": "execute_result"
    }
   ],
   "source": [
    "Data_2.nunique(axis = 0)"
   ]
  },
  {
   "cell_type": "code",
   "execution_count": 18,
   "id": "62d00e34",
   "metadata": {
    "ExecuteTime": {
     "end_time": "2021-05-26T14:25:49.019494Z",
     "start_time": "2021-05-26T14:25:48.961494Z"
    }
   },
   "outputs": [
    {
     "data": {
      "text/plain": [
       "Item_Weight                  1463\n",
       "Item_Fat_Content                0\n",
       "Item_Visibility                 0\n",
       "Item_MRP                        0\n",
       "Outlet_Establishment_Year       0\n",
       "Outlet_Size                  2410\n",
       "Outlet_Location_Type            0\n",
       "Item_Outlet_Sales               0\n",
       "dtype: int64"
      ]
     },
     "execution_count": 18,
     "metadata": {},
     "output_type": "execute_result"
    }
   ],
   "source": [
    "Data_2.isnull().sum()"
   ]
  },
  {
   "cell_type": "code",
   "execution_count": 31,
   "id": "2df11ecd",
   "metadata": {
    "ExecuteTime": {
     "end_time": "2021-05-26T14:30:26.611008Z",
     "start_time": "2021-05-26T14:30:26.580009Z"
    }
   },
   "outputs": [
    {
     "data": {
      "text/html": [
       "<div>\n",
       "<style scoped>\n",
       "    .dataframe tbody tr th:only-of-type {\n",
       "        vertical-align: middle;\n",
       "    }\n",
       "\n",
       "    .dataframe tbody tr th {\n",
       "        vertical-align: top;\n",
       "    }\n",
       "\n",
       "    .dataframe thead th {\n",
       "        text-align: right;\n",
       "    }\n",
       "</style>\n",
       "<table border=\"1\" class=\"dataframe\">\n",
       "  <thead>\n",
       "    <tr style=\"text-align: right;\">\n",
       "      <th></th>\n",
       "      <th>Item_Weight</th>\n",
       "      <th>Item_Fat_Content</th>\n",
       "      <th>Item_Visibility</th>\n",
       "      <th>Item_MRP</th>\n",
       "      <th>Outlet_Establishment_Year</th>\n",
       "      <th>Outlet_Size</th>\n",
       "      <th>Outlet_Location_Type</th>\n",
       "      <th>Item_Outlet_Sales</th>\n",
       "    </tr>\n",
       "  </thead>\n",
       "  <tbody>\n",
       "    <tr>\n",
       "      <th>0</th>\n",
       "      <td>9.30</td>\n",
       "      <td>Low Fat</td>\n",
       "      <td>0.016047</td>\n",
       "      <td>249.8092</td>\n",
       "      <td>1999</td>\n",
       "      <td>Medium</td>\n",
       "      <td>Tier 1</td>\n",
       "      <td>3735.1380</td>\n",
       "    </tr>\n",
       "    <tr>\n",
       "      <th>1</th>\n",
       "      <td>5.92</td>\n",
       "      <td>Regular</td>\n",
       "      <td>0.019278</td>\n",
       "      <td>48.2692</td>\n",
       "      <td>2009</td>\n",
       "      <td>Medium</td>\n",
       "      <td>Tier 3</td>\n",
       "      <td>443.4228</td>\n",
       "    </tr>\n",
       "    <tr>\n",
       "      <th>2</th>\n",
       "      <td>17.50</td>\n",
       "      <td>Low Fat</td>\n",
       "      <td>0.016760</td>\n",
       "      <td>141.6180</td>\n",
       "      <td>1999</td>\n",
       "      <td>Medium</td>\n",
       "      <td>Tier 1</td>\n",
       "      <td>2097.2700</td>\n",
       "    </tr>\n",
       "    <tr>\n",
       "      <th>3</th>\n",
       "      <td>19.20</td>\n",
       "      <td>Regular</td>\n",
       "      <td>0.000000</td>\n",
       "      <td>182.0950</td>\n",
       "      <td>1998</td>\n",
       "      <td>NaN</td>\n",
       "      <td>Tier 3</td>\n",
       "      <td>732.3800</td>\n",
       "    </tr>\n",
       "    <tr>\n",
       "      <th>4</th>\n",
       "      <td>8.93</td>\n",
       "      <td>Low Fat</td>\n",
       "      <td>0.000000</td>\n",
       "      <td>53.8614</td>\n",
       "      <td>1987</td>\n",
       "      <td>High</td>\n",
       "      <td>Tier 3</td>\n",
       "      <td>994.7052</td>\n",
       "    </tr>\n",
       "  </tbody>\n",
       "</table>\n",
       "</div>"
      ],
      "text/plain": [
       "   Item_Weight Item_Fat_Content  Item_Visibility  Item_MRP  \\\n",
       "0         9.30          Low Fat         0.016047  249.8092   \n",
       "1         5.92          Regular         0.019278   48.2692   \n",
       "2        17.50          Low Fat         0.016760  141.6180   \n",
       "3        19.20          Regular         0.000000  182.0950   \n",
       "4         8.93          Low Fat         0.000000   53.8614   \n",
       "\n",
       "   Outlet_Establishment_Year Outlet_Size Outlet_Location_Type  \\\n",
       "0                       1999      Medium               Tier 1   \n",
       "1                       2009      Medium               Tier 3   \n",
       "2                       1999      Medium               Tier 1   \n",
       "3                       1998         NaN               Tier 3   \n",
       "4                       1987        High               Tier 3   \n",
       "\n",
       "   Item_Outlet_Sales  \n",
       "0          3735.1380  \n",
       "1           443.4228  \n",
       "2          2097.2700  \n",
       "3           732.3800  \n",
       "4           994.7052  "
      ]
     },
     "execution_count": 31,
     "metadata": {},
     "output_type": "execute_result"
    }
   ],
   "source": [
    "Data_3 = Data_2\n",
    "Data_3.head()"
   ]
  },
  {
   "cell_type": "code",
   "execution_count": 32,
   "id": "489175b3",
   "metadata": {
    "ExecuteTime": {
     "end_time": "2021-05-26T14:31:41.940011Z",
     "start_time": "2021-05-26T14:31:41.909010Z"
    }
   },
   "outputs": [],
   "source": [
    "Data_4 = Data_3.dropna()"
   ]
  },
  {
   "cell_type": "code",
   "execution_count": 33,
   "id": "3c502338",
   "metadata": {
    "ExecuteTime": {
     "end_time": "2021-05-26T14:31:50.774009Z",
     "start_time": "2021-05-26T14:31:50.715009Z"
    }
   },
   "outputs": [
    {
     "data": {
      "text/plain": [
       "Item_Weight                  0\n",
       "Item_Fat_Content             0\n",
       "Item_Visibility              0\n",
       "Item_MRP                     0\n",
       "Outlet_Establishment_Year    0\n",
       "Outlet_Size                  0\n",
       "Outlet_Location_Type         0\n",
       "Item_Outlet_Sales            0\n",
       "dtype: int64"
      ]
     },
     "execution_count": 33,
     "metadata": {},
     "output_type": "execute_result"
    }
   ],
   "source": [
    "Data_4.isnull().sum()"
   ]
  },
  {
   "cell_type": "code",
   "execution_count": 137,
   "id": "82f8b88d",
   "metadata": {
    "ExecuteTime": {
     "end_time": "2021-05-26T19:44:17.713503Z",
     "start_time": "2021-05-26T19:44:17.283506Z"
    }
   },
   "outputs": [
    {
     "data": {
      "image/png": "[encoded data removed]",
      "text/plain": [
       "<Figure size 432x288 with 1 Axes>"
      ]
     },
     "metadata": {
      "needs_background": "light"
     },
     "output_type": "display_data"
    }
   ],
   "source": [
    "Data[\"Outlet_Type\"].value_counts(normalize = True)\n",
    "Data[\"Outlet_Type\"].value_counts().plot.bar()\n",
    "plt.title(\"Capacity Vs Outlet type\")\n",
    "plt.xlabel(\"Item type\")\n",
    "plt.ylabel(\"Number of Items\")\n",
    "plt.show()"
   ]
  },
  {
   "cell_type": "code",
   "execution_count": 139,
   "id": "207ace59",
   "metadata": {
    "ExecuteTime": {
     "end_time": "2021-05-26T19:46:26.868500Z",
     "start_time": "2021-05-26T19:46:26.432506Z"
    }
   },
   "outputs": [
    {
     "data": {
      "image/png": "[encoded data removed]",
      "text/plain": [
       "<Figure size 432x288 with 1 Axes>"
      ]
     },
     "metadata": {
      "needs_background": "light"
     },
     "output_type": "display_data"
    }
   ],
   "source": [
    "Data[\"Item_Fat_Content\"].value_counts(normalize = True)\n",
    "Data[\"Item_Fat_Content\"].value_counts().plot.bar()\n",
    "plt.title(\"Item_Fat_Content\")\n",
    "plt.xlabel(\"Item_Fat_Content\")\n",
    "plt.ylabel(\"Number of Items\")\n",
    "plt.show()"
   ]
  },
  {
   "cell_type": "code",
   "execution_count": 36,
   "id": "9b22a7d3",
   "metadata": {
    "ExecuteTime": {
     "end_time": "2021-05-26T14:35:24.589008Z",
     "start_time": "2021-05-26T14:35:24.573011Z"
    }
   },
   "outputs": [
    {
     "name": "stderr",
     "output_type": "stream",
     "text": [
      "<ipython-input-36-32adcd8bf49c>:1: SettingWithCopyWarning: \n",
      "A value is trying to be set on a copy of a slice from a DataFrame.\n",
      "Try using .loc[row_indexer,col_indexer] = value instead\n",
      "\n",
      "See the caveats in the documentation: https://pandas.pydata.org/pandas-docs/stable/user_guide/indexing.html#returning-a-view-versus-a-copy\n",
      "  Data_4[\"Item_Fat_Content_Num\"] = pd.factorize(Data_4.Item_Fat_Content)[0]\n",
      "<ipython-input-36-32adcd8bf49c>:2: SettingWithCopyWarning: \n",
      "A value is trying to be set on a copy of a slice from a DataFrame.\n",
      "Try using .loc[row_indexer,col_indexer] = value instead\n",
      "\n",
      "See the caveats in the documentation: https://pandas.pydata.org/pandas-docs/stable/user_guide/indexing.html#returning-a-view-versus-a-copy\n",
      "  Data_4[\"Outlet_Size_Num\"] = pd.factorize(Data_4.Outlet_Size)[0]\n",
      "<ipython-input-36-32adcd8bf49c>:3: SettingWithCopyWarning: \n",
      "A value is trying to be set on a copy of a slice from a DataFrame.\n",
      "Try using .loc[row_indexer,col_indexer] = value instead\n",
      "\n",
      "See the caveats in the documentation: https://pandas.pydata.org/pandas-docs/stable/user_guide/indexing.html#returning-a-view-versus-a-copy\n",
      "  Data_4[\"Outlet_Location_Type_Num\"] = pd.factorize(Data_4.Outlet_Location_Type)[0]\n"
     ]
    }
   ],
   "source": [
    "Data_4[\"Item_Fat_Content_Num\"] = pd.factorize(Data_4.Item_Fat_Content)[0]\n",
    "Data_4[\"Outlet_Size_Num\"] = pd.factorize(Data_4.Outlet_Size)[0]\n",
    "Data_4[\"Outlet_Location_Type_Num\"] = pd.factorize(Data_4.Outlet_Location_Type)[0]"
   ]
  },
  {
   "cell_type": "code",
   "execution_count": 37,
   "id": "da0bc0b6",
   "metadata": {
    "ExecuteTime": {
     "end_time": "2021-05-26T14:35:30.605008Z",
     "start_time": "2021-05-26T14:35:30.571011Z"
    }
   },
   "outputs": [
    {
     "data": {
      "text/html": [
       "<div>\n",
       "<style scoped>\n",
       "    .dataframe tbody tr th:only-of-type {\n",
       "        vertical-align: middle;\n",
       "    }\n",
       "\n",
       "    .dataframe tbody tr th {\n",
       "        vertical-align: top;\n",
       "    }\n",
       "\n",
       "    .dataframe thead th {\n",
       "        text-align: right;\n",
       "    }\n",
       "</style>\n",
       "<table border=\"1\" class=\"dataframe\">\n",
       "  <thead>\n",
       "    <tr style=\"text-align: right;\">\n",
       "      <th></th>\n",
       "      <th>Item_Weight</th>\n",
       "      <th>Item_Fat_Content</th>\n",
       "      <th>Item_Visibility</th>\n",
       "      <th>Item_MRP</th>\n",
       "      <th>Outlet_Establishment_Year</th>\n",
       "      <th>Outlet_Size</th>\n",
       "      <th>Outlet_Location_Type</th>\n",
       "      <th>Item_Outlet_Sales</th>\n",
       "      <th>Item_Fat_Content_Num</th>\n",
       "      <th>Outlet_Size_Num</th>\n",
       "      <th>Outlet_Location_Type_Num</th>\n",
       "    </tr>\n",
       "  </thead>\n",
       "  <tbody>\n",
       "    <tr>\n",
       "      <th>0</th>\n",
       "      <td>9.300</td>\n",
       "      <td>Low Fat</td>\n",
       "      <td>0.016047</td>\n",
       "      <td>249.8092</td>\n",
       "      <td>1999</td>\n",
       "      <td>Medium</td>\n",
       "      <td>Tier 1</td>\n",
       "      <td>3735.1380</td>\n",
       "      <td>0</td>\n",
       "      <td>0</td>\n",
       "      <td>0</td>\n",
       "    </tr>\n",
       "    <tr>\n",
       "      <th>1</th>\n",
       "      <td>5.920</td>\n",
       "      <td>Regular</td>\n",
       "      <td>0.019278</td>\n",
       "      <td>48.2692</td>\n",
       "      <td>2009</td>\n",
       "      <td>Medium</td>\n",
       "      <td>Tier 3</td>\n",
       "      <td>443.4228</td>\n",
       "      <td>1</td>\n",
       "      <td>0</td>\n",
       "      <td>1</td>\n",
       "    </tr>\n",
       "    <tr>\n",
       "      <th>2</th>\n",
       "      <td>17.500</td>\n",
       "      <td>Low Fat</td>\n",
       "      <td>0.016760</td>\n",
       "      <td>141.6180</td>\n",
       "      <td>1999</td>\n",
       "      <td>Medium</td>\n",
       "      <td>Tier 1</td>\n",
       "      <td>2097.2700</td>\n",
       "      <td>0</td>\n",
       "      <td>0</td>\n",
       "      <td>0</td>\n",
       "    </tr>\n",
       "    <tr>\n",
       "      <th>4</th>\n",
       "      <td>8.930</td>\n",
       "      <td>Low Fat</td>\n",
       "      <td>0.000000</td>\n",
       "      <td>53.8614</td>\n",
       "      <td>1987</td>\n",
       "      <td>High</td>\n",
       "      <td>Tier 3</td>\n",
       "      <td>994.7052</td>\n",
       "      <td>0</td>\n",
       "      <td>1</td>\n",
       "      <td>1</td>\n",
       "    </tr>\n",
       "    <tr>\n",
       "      <th>5</th>\n",
       "      <td>10.395</td>\n",
       "      <td>Regular</td>\n",
       "      <td>0.000000</td>\n",
       "      <td>51.4008</td>\n",
       "      <td>2009</td>\n",
       "      <td>Medium</td>\n",
       "      <td>Tier 3</td>\n",
       "      <td>556.6088</td>\n",
       "      <td>1</td>\n",
       "      <td>0</td>\n",
       "      <td>1</td>\n",
       "    </tr>\n",
       "  </tbody>\n",
       "</table>\n",
       "</div>"
      ],
      "text/plain": [
       "   Item_Weight Item_Fat_Content  Item_Visibility  Item_MRP  \\\n",
       "0        9.300          Low Fat         0.016047  249.8092   \n",
       "1        5.920          Regular         0.019278   48.2692   \n",
       "2       17.500          Low Fat         0.016760  141.6180   \n",
       "4        8.930          Low Fat         0.000000   53.8614   \n",
       "5       10.395          Regular         0.000000   51.4008   \n",
       "\n",
       "   Outlet_Establishment_Year Outlet_Size Outlet_Location_Type  \\\n",
       "0                       1999      Medium               Tier 1   \n",
       "1                       2009      Medium               Tier 3   \n",
       "2                       1999      Medium               Tier 1   \n",
       "4                       1987        High               Tier 3   \n",
       "5                       2009      Medium               Tier 3   \n",
       "\n",
       "   Item_Outlet_Sales  Item_Fat_Content_Num  Outlet_Size_Num  \\\n",
       "0          3735.1380                     0                0   \n",
       "1           443.4228                     1                0   \n",
       "2          2097.2700                     0                0   \n",
       "4           994.7052                     0                1   \n",
       "5           556.6088                     1                0   \n",
       "\n",
       "   Outlet_Location_Type_Num  \n",
       "0                         0  \n",
       "1                         1  \n",
       "2                         0  \n",
       "4                         1  \n",
       "5                         1  "
      ]
     },
     "execution_count": 37,
     "metadata": {},
     "output_type": "execute_result"
    }
   ],
   "source": [
    "Data_4.head()"
   ]
  },
  {
   "cell_type": "code",
   "execution_count": 43,
   "id": "63fcc976",
   "metadata": {
    "ExecuteTime": {
     "end_time": "2021-05-26T14:47:41.970995Z",
     "start_time": "2021-05-26T14:47:41.959996Z"
    }
   },
   "outputs": [],
   "source": [
    "Data_5 = Data_4[[\"Item_Weight\",\"Item_Fat_Content\",\"Item_Fat_Content_Num\",\"Item_Visibility\",\n",
    "                 \"Item_MRP\",\"Outlet_Establishment_Year\",\"Outlet_Size\",\"Outlet_Size_Num\",\n",
    "                \"Outlet_Location_Type\",\"Outlet_Location_Type_Num\",\"Item_Outlet_Sales\"]]"
   ]
  },
  {
   "cell_type": "code",
   "execution_count": 44,
   "id": "6e85df07",
   "metadata": {
    "ExecuteTime": {
     "end_time": "2021-05-26T14:47:43.195995Z",
     "start_time": "2021-05-26T14:47:43.162997Z"
    }
   },
   "outputs": [
    {
     "data": {
      "text/html": [
       "<div>\n",
       "<style scoped>\n",
       "    .dataframe tbody tr th:only-of-type {\n",
       "        vertical-align: middle;\n",
       "    }\n",
       "\n",
       "    .dataframe tbody tr th {\n",
       "        vertical-align: top;\n",
       "    }\n",
       "\n",
       "    .dataframe thead th {\n",
       "        text-align: right;\n",
       "    }\n",
       "</style>\n",
       "<table border=\"1\" class=\"dataframe\">\n",
       "  <thead>\n",
       "    <tr style=\"text-align: right;\">\n",
       "      <th></th>\n",
       "      <th>Item_Weight</th>\n",
       "      <th>Item_Fat_Content</th>\n",
       "      <th>Item_Fat_Content_Num</th>\n",
       "      <th>Item_Visibility</th>\n",
       "      <th>Item_MRP</th>\n",
       "      <th>Outlet_Establishment_Year</th>\n",
       "      <th>Outlet_Size</th>\n",
       "      <th>Outlet_Size_Num</th>\n",
       "      <th>Outlet_Location_Type</th>\n",
       "      <th>Outlet_Location_Type_Num</th>\n",
       "      <th>Item_Outlet_Sales</th>\n",
       "    </tr>\n",
       "  </thead>\n",
       "  <tbody>\n",
       "    <tr>\n",
       "      <th>0</th>\n",
       "      <td>9.300</td>\n",
       "      <td>Low Fat</td>\n",
       "      <td>0</td>\n",
       "      <td>0.016047</td>\n",
       "      <td>249.8092</td>\n",
       "      <td>1999</td>\n",
       "      <td>Medium</td>\n",
       "      <td>0</td>\n",
       "      <td>Tier 1</td>\n",
       "      <td>0</td>\n",
       "      <td>3735.1380</td>\n",
       "    </tr>\n",
       "    <tr>\n",
       "      <th>1</th>\n",
       "      <td>5.920</td>\n",
       "      <td>Regular</td>\n",
       "      <td>1</td>\n",
       "      <td>0.019278</td>\n",
       "      <td>48.2692</td>\n",
       "      <td>2009</td>\n",
       "      <td>Medium</td>\n",
       "      <td>0</td>\n",
       "      <td>Tier 3</td>\n",
       "      <td>1</td>\n",
       "      <td>443.4228</td>\n",
       "    </tr>\n",
       "    <tr>\n",
       "      <th>2</th>\n",
       "      <td>17.500</td>\n",
       "      <td>Low Fat</td>\n",
       "      <td>0</td>\n",
       "      <td>0.016760</td>\n",
       "      <td>141.6180</td>\n",
       "      <td>1999</td>\n",
       "      <td>Medium</td>\n",
       "      <td>0</td>\n",
       "      <td>Tier 1</td>\n",
       "      <td>0</td>\n",
       "      <td>2097.2700</td>\n",
       "    </tr>\n",
       "    <tr>\n",
       "      <th>4</th>\n",
       "      <td>8.930</td>\n",
       "      <td>Low Fat</td>\n",
       "      <td>0</td>\n",
       "      <td>0.000000</td>\n",
       "      <td>53.8614</td>\n",
       "      <td>1987</td>\n",
       "      <td>High</td>\n",
       "      <td>1</td>\n",
       "      <td>Tier 3</td>\n",
       "      <td>1</td>\n",
       "      <td>994.7052</td>\n",
       "    </tr>\n",
       "    <tr>\n",
       "      <th>5</th>\n",
       "      <td>10.395</td>\n",
       "      <td>Regular</td>\n",
       "      <td>1</td>\n",
       "      <td>0.000000</td>\n",
       "      <td>51.4008</td>\n",
       "      <td>2009</td>\n",
       "      <td>Medium</td>\n",
       "      <td>0</td>\n",
       "      <td>Tier 3</td>\n",
       "      <td>1</td>\n",
       "      <td>556.6088</td>\n",
       "    </tr>\n",
       "  </tbody>\n",
       "</table>\n",
       "</div>"
      ],
      "text/plain": [
       "   Item_Weight Item_Fat_Content  Item_Fat_Content_Num  Item_Visibility  \\\n",
       "0        9.300          Low Fat                     0         0.016047   \n",
       "1        5.920          Regular                     1         0.019278   \n",
       "2       17.500          Low Fat                     0         0.016760   \n",
       "4        8.930          Low Fat                     0         0.000000   \n",
       "5       10.395          Regular                     1         0.000000   \n",
       "\n",
       "   Item_MRP  Outlet_Establishment_Year Outlet_Size  Outlet_Size_Num  \\\n",
       "0  249.8092                       1999      Medium                0   \n",
       "1   48.2692                       2009      Medium                0   \n",
       "2  141.6180                       1999      Medium                0   \n",
       "4   53.8614                       1987        High                1   \n",
       "5   51.4008                       2009      Medium                0   \n",
       "\n",
       "  Outlet_Location_Type  Outlet_Location_Type_Num  Item_Outlet_Sales  \n",
       "0               Tier 1                         0          3735.1380  \n",
       "1               Tier 3                         1           443.4228  \n",
       "2               Tier 1                         0          2097.2700  \n",
       "4               Tier 3                         1           994.7052  \n",
       "5               Tier 3                         1           556.6088  "
      ]
     },
     "execution_count": 44,
     "metadata": {},
     "output_type": "execute_result"
    }
   ],
   "source": [
    "Data_5.head()"
   ]
  },
  {
   "cell_type": "code",
   "execution_count": 45,
   "id": "bd968e6f",
   "metadata": {
    "ExecuteTime": {
     "end_time": "2021-05-26T14:47:48.282996Z",
     "start_time": "2021-05-26T14:47:48.267998Z"
    }
   },
   "outputs": [
    {
     "data": {
      "text/plain": [
       "(4650, 11)"
      ]
     },
     "execution_count": 45,
     "metadata": {},
     "output_type": "execute_result"
    }
   ],
   "source": [
    "Data_5.shape"
   ]
  },
  {
   "cell_type": "code",
   "execution_count": 46,
   "id": "a9d675c4",
   "metadata": {
    "ExecuteTime": {
     "end_time": "2021-05-26T14:47:51.026997Z",
     "start_time": "2021-05-26T14:47:51.019997Z"
    }
   },
   "outputs": [],
   "source": [
    "from sklearn.model_selection import train_test_split"
   ]
  },
  {
   "cell_type": "code",
   "execution_count": 98,
   "id": "b49bd908",
   "metadata": {
    "ExecuteTime": {
     "end_time": "2021-05-26T15:23:39.406625Z",
     "start_time": "2021-05-26T15:23:39.391625Z"
    }
   },
   "outputs": [],
   "source": [
    "x_train, x_test, y_train, y_test = train_test_split(Data_5[[\"Item_Weight\",\"Item_Fat_Content_Num\",\n",
    "                                                            \"Item_Visibility\",\"Item_MRP\",\n",
    "                                                            \"Outlet_Establishment_Year\",\n",
    "                                                            \"Outlet_Size_Num\",\"Outlet_Location_Type_Num\"]], \n",
    "                                                    Data_5.Item_Outlet_Sales,test_size = 0.30)"
   ]
  },
  {
   "cell_type": "code",
   "execution_count": 113,
   "id": "94381402",
   "metadata": {
    "ExecuteTime": {
     "end_time": "2021-05-26T18:56:12.360214Z",
     "start_time": "2021-05-26T18:56:12.122215Z"
    }
   },
   "outputs": [
    {
     "name": "stdout",
     "output_type": "stream",
     "text": [
      "Size of x train is :- (3255, 7)\n",
      "Size of x test is :- (1395, 7)\n",
      "Size of y train is :- (3255,)\n",
      "Size of y test is :- (1395,)\n"
     ]
    }
   ],
   "source": [
    "print(f\"Size of x train is :- {x_train.shape}\")\n",
    "print(f\"Size of x test is :- {x_test.shape}\")\n",
    "print(f\"Size of y train is :- {y_train.shape}\")\n",
    "print(f\"Size of y test is :- {y_test.shape}\")"
   ]
  },
  {
   "cell_type": "code",
   "execution_count": 104,
   "id": "f285ef01",
   "metadata": {
    "ExecuteTime": {
     "end_time": "2021-05-26T15:25:08.697625Z",
     "start_time": "2021-05-26T15:25:08.691624Z"
    }
   },
   "outputs": [],
   "source": [
    "from sklearn.tree import DecisionTreeRegressor"
   ]
  },
  {
   "cell_type": "code",
   "execution_count": 105,
   "id": "06f8f1c0",
   "metadata": {
    "ExecuteTime": {
     "end_time": "2021-05-26T15:25:09.470624Z",
     "start_time": "2021-05-26T15:25:09.385625Z"
    }
   },
   "outputs": [
    {
     "data": {
      "text/plain": [
       "DecisionTreeRegressor()"
      ]
     },
     "execution_count": 105,
     "metadata": {},
     "output_type": "execute_result"
    }
   ],
   "source": [
    "Model = DecisionTreeRegressor()\n",
    "Model.fit(x_train,y_train)"
   ]
  },
  {
   "cell_type": "code",
   "execution_count": 114,
   "id": "fdf08033",
   "metadata": {
    "ExecuteTime": {
     "end_time": "2021-05-26T19:04:28.633791Z",
     "start_time": "2021-05-26T19:03:16.531791Z"
    }
   },
   "outputs": [
    {
     "name": "stdout",
     "output_type": "stream",
     "text": [
      "Enter Item Weight :- 8.930\n",
      "Enter Item Fat Content :- 0\n",
      "Enter Item Weight :- 0.000000\n",
      "Enter Item Visibility :- 53.8614\n",
      "Enter Outlet Establishment Year :- 1987\n",
      "Enter Outlet Size :- 1\t\n",
      "Enter Outlet Location Type :- 1\n"
     ]
    }
   ],
   "source": [
    "Item_Weight_input = float(input(\"Enter Item Weight :- \"))\n",
    "Item_Fat_Content_Num_input = int(input(\"Enter Item Fat Content :- \"))\n",
    "Item_Visibility_input = float(input(\"Enter Item Weight :- \"))\n",
    "Item_MRP_input = float(input(\"Enter Item Visibility :- \"))\n",
    "Outlet_Establishment_Year_input = int(input(\"Enter Outlet Establishment Year :- \"))\n",
    "Outlet_Size_Num_input = int(input(\"Enter Outlet Size :- \"))\n",
    "Outlet_Location_Type_Num_input = int(input(\"Enter Outlet Location Type :- \"))"
   ]
  },
  {
   "cell_type": "code",
   "execution_count": 117,
   "id": "79d06404",
   "metadata": {
    "ExecuteTime": {
     "end_time": "2021-05-26T19:07:18.595115Z",
     "start_time": "2021-05-26T19:07:18.588117Z"
    }
   },
   "outputs": [],
   "source": [
    "Final_Result = Model.predict([[Item_Weight_input,Item_Fat_Content_Num_input,Item_Visibility_input\n",
    "                ,Item_MRP_input,Outlet_Establishment_Year_input,Outlet_Size_Num_input\n",
    "                ,Outlet_Location_Type_Num_input]])"
   ]
  },
  {
   "cell_type": "code",
   "execution_count": 124,
   "id": "3328802e",
   "metadata": {
    "ExecuteTime": {
     "end_time": "2021-05-26T19:10:17.974631Z",
     "start_time": "2021-05-26T19:10:17.968631Z"
    }
   },
   "outputs": [],
   "source": [
    "Last_Final = float(Final_Result)"
   ]
  },
  {
   "cell_type": "code",
   "execution_count": 125,
   "id": "ff98cd9e",
   "metadata": {
    "ExecuteTime": {
     "end_time": "2021-05-26T19:10:23.938934Z",
     "start_time": "2021-05-26T19:10:23.930936Z"
    }
   },
   "outputs": [
    {
     "name": "stdout",
     "output_type": "stream",
     "text": [
      "Outlet Sales will be :- 994.7052\n"
     ]
    }
   ],
   "source": [
    "print(f\"Outlet Sales will be :- {Last_Final}\")"
   ]
  },
  {
   "cell_type": "code",
   "execution_count": 133,
   "id": "eafc79d3",
   "metadata": {
    "ExecuteTime": {
     "end_time": "2021-05-26T19:40:01.011505Z",
     "start_time": "2021-05-26T19:40:00.449506Z"
    },
    "scrolled": false
   },
   "outputs": [
    {
     "data": {
      "image/png": "[encoded data removed]",
      "text/plain": [
       "<Figure size 432x288 with 1 Axes>"
      ]
     },
     "metadata": {
      "needs_background": "light"
     },
     "output_type": "display_data"
    }
   ],
   "source": [
    "Data['Item_Type'].value_counts(normalize = True)\n",
    "Data['Item_Type'].value_counts().plot.bar()\n",
    "plt.title('Capacity Vs Type of Item')\n",
    "plt.xlabel('Item')\n",
    "plt.ylabel('Number of Items')\n",
    "plt.show()"
   ]
  },
  {
   "cell_type": "code",
   "execution_count": null,
   "id": "0ff68fe1",
   "metadata": {},
   "outputs": [],
   "source": []
  }
 ],
 "metadata": {
  "kernelspec": {
   "display_name": "Python 3",
   "language": "python",
   "name": "python3"
  },
  "language_info": {
   "codemirror_mode": {
    "name": "ipython",
    "version": 3
   },
   "file_extension": ".py",
   "mimetype": "text/x-python",
   "name": "python",
   "nbconvert_exporter": "python",
   "pygments_lexer": "ipython3",
   "version": "3.9.1"
  },
  "toc": {
   "base_numbering": 1,
   "nav_menu": {},
   "number_sections": true,
   "sideBar": true,
   "skip_h1_title": false,
   "title_cell": "Table of Contents",
   "title_sidebar": "Contents",
   "toc_cell": false,
   "toc_position": {},
   "toc_section_display": true,
   "toc_window_display": false
  }
 },
 "nbformat": 4,
 "nbformat_minor": 5
}
